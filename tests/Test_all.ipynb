{
 "cells": [
  {
   "cell_type": "code",
   "execution_count": null,
   "metadata": {
    "collapsed": true
   },
   "outputs": [],
   "source": []
  },
  {
   "cell_type": "code",
   "execution_count": 1,
   "metadata": {
    "collapsed": true
   },
   "outputs": [],
   "source": [
    "import findspark\n",
    "findspark.init()\n",
    "from pyspark import SparkContext as sc\n",
    "\n",
    "import os\n",
    "\n",
    "from pyspark.sql import SQLContext, Row\n",
    "\n",
    "import pyspark\n",
    "\n",
    "import sys\n",
    "import string\n",
    "from csv import reader\n",
    "from functools import reduce\n",
    "from pyspark.sql import functions as f\n",
    "from collections import defaultdict\n",
    "import datetime\n",
    "\n",
    "sys.path.insert(0, '../src')\n",
    "from tableCollections import TableCollections\n",
    "import os"
   ]
  },
  {
   "cell_type": "code",
   "execution_count": 2,
   "metadata": {
    "collapsed": true
   },
   "outputs": [],
   "source": [
    "data_path = ['data']\n",
    "parking_filepath = os.sep.join(data_path + ['parking.csv'])\n",
    "\n",
    "sc = sc(appName=\"Test_all\")\n",
    "sqlContext = SQLContext(sc)"
   ]
  },
  {
   "cell_type": "code",
   "execution_count": 3,
   "metadata": {
    "collapsed": true
   },
   "outputs": [],
   "source": [
    "parkingTable = sqlContext.read.format('csv').options(header='true',inferschema='true').load('/user/ecc290/HW1data/parking-violations-header.csv')"
   ]
  },
  {
   "cell_type": "code",
   "execution_count": 5,
   "metadata": {},
   "outputs": [],
   "source": [
    "openTable = sqlContext.read.format('csv').options(header='true',inferschema='true').load('/user/ecc290/HW1data/open-violations-header.csv')"
   ]
  },
  {
   "cell_type": "code",
   "execution_count": 6,
   "metadata": {
    "collapsed": true
   },
   "outputs": [],
   "source": [
    "category = sqlContext.read.format('csv').options(header='true',inferschema='true').load('../user/dhu200/us_cities_states_counties.csv')"
   ]
  },
  {
   "cell_type": "code",
   "execution_count": 7,
   "metadata": {
    "collapsed": true
   },
   "outputs": [],
   "source": [
    "tc = TableCollections(sqlContext, sc)"
   ]
  },
  {
   "cell_type": "markdown",
   "metadata": {},
   "source": [
    "## Register all the tables if metadata does not exists"
   ]
  },
  {
   "cell_type": "code",
   "execution_count": 8,
   "metadata": {
    "collapsed": true
   },
   "outputs": [],
   "source": [
    "tc.register(parkingTable, \"parking\")"
   ]
  },
  {
   "cell_type": "code",
   "execution_count": 9,
   "metadata": {
    "collapsed": true
   },
   "outputs": [],
   "source": [
    "tc.register(openTable, \"open\")"
   ]
  },
  {
   "cell_type": "code",
   "execution_count": 10,
   "metadata": {
    "collapsed": true
   },
   "outputs": [],
   "source": [
    "tc.register(category, \"category\")"
   ]
  },
  {
   "cell_type": "markdown",
   "metadata": {},
   "source": [
    "## Returns names of time columns within a range of dates "
   ]
  },
  {
   "cell_type": "code",
   "execution_count": 11,
   "metadata": {},
   "outputs": [
    {
     "name": "stdout",
     "output_type": "stream",
     "text": [
      "+----------+---------+\n",
      "|   colName|tableName|\n",
      "+----------+---------+\n",
      "|issue_date|  parking|\n",
      "+----------+---------+\n",
      "\n"
     ]
    }
   ],
   "source": [
    "import datetime\n",
    "tc.timeColWithinRange(datetime.datetime(1994,1,1), datetime.datetime(2018,5,1)).show()"
   ]
  },
  {
   "cell_type": "markdown",
   "metadata": {},
   "source": [
    "## Returns name of Numerical columns within a range of values"
   ]
  },
  {
   "cell_type": "code",
   "execution_count": 12,
   "metadata": {},
   "outputs": [
    {
     "name": "stdout",
     "output_type": "stream",
     "text": [
      "+------------------+---------+\n",
      "|           colName|tableName|\n",
      "+------------------+---------+\n",
      "|violation_location|  parking|\n",
      "|violation_precinct|  parking|\n",
      "|   issuer_precinct|  parking|\n",
      "|       issuer_code|  parking|\n",
      "|    violation_code|  parking|\n",
      "|      vehicle_year|  parking|\n",
      "|  reduction_amount|     open|\n",
      "|   interest_amount|     open|\n",
      "|    payment_amount|     open|\n",
      "|    penalty_amount|     open|\n",
      "|       fine_amount|     open|\n",
      "|        amount_due|     open|\n",
      "|          precinct|     open|\n",
      "+------------------+---------+\n",
      "\n"
     ]
    }
   ],
   "source": [
    "tc.numColWithinRange(-1000000, 10000000).show()"
   ]
  },
  {
   "cell_type": "markdown",
   "metadata": {},
   "source": [
    "## Returns range of value(minimum and maximum) that a column has in particular table"
   ]
  },
  {
   "cell_type": "code",
   "execution_count": 13,
   "metadata": {},
   "outputs": [
    {
     "name": "stdout",
     "output_type": "stream",
     "text": [
      "+---------+------------------+----+-----+\n",
      "|tableName|           colName| min|  max|\n",
      "+---------+------------------+----+-----+\n",
      "|  parking|violation_location|-1.0|967.0|\n",
      "|  parking|violation_precinct| 0.0|967.0|\n",
      "|     open|  reduction_amount| 0.0|545.0|\n",
      "|     open|        amount_due| 0.0|594.1|\n",
      "+---------+------------------+----+-----+\n",
      "\n"
     ]
    }
   ],
   "source": [
    "colList= [\"parking^violation_location\",\"parking^violation_precinct\", \"open^reduction_amount\", \"open^amount_due\"]\n",
    "tc.getNumRange(colList).show()"
   ]
  },
  {
   "cell_type": "markdown",
   "metadata": {},
   "source": [
    "## Returns time range of timestame columns"
   ]
  },
  {
   "cell_type": "code",
   "execution_count": 14,
   "metadata": {},
   "outputs": [
    {
     "name": "stdout",
     "output_type": "stream",
     "text": [
      "+---------+----------+-------------------+-------------------+\n",
      "|tableName|   colName|                min|                max|\n",
      "+---------+----------+-------------------+-------------------+\n",
      "|  parking|issue_date|2016-03-01 00:00:00|2016-03-31 00:00:00|\n",
      "+---------+----------+-------------------+-------------------+\n",
      "\n"
     ]
    }
   ],
   "source": [
    "colList= [\"parking^issue_date\"]\n",
    "tc.getTimeRange(colList).show()"
   ]
  },
  {
   "cell_type": "markdown",
   "metadata": {},
   "source": [
    "## Return column names having integration over union greater than a threshold"
   ]
  },
  {
   "cell_type": "code",
   "execution_count": 15,
   "metadata": {},
   "outputs": [
    {
     "name": "stdout",
     "output_type": "stream",
     "text": [
      "+------------------+---------+------------------+\n",
      "|           colName|tableName|               iou|\n",
      "+------------------+---------+------------------+\n",
      "|violation_location|  parking|               1.0|\n",
      "|violation_precinct|  parking|0.9989669421487604|\n",
      "|   issuer_precinct|  parking| 0.973816717019134|\n",
      "|          precinct|     open|0.8316115702479339|\n",
      "|        amount_due|     open|0.6137396694214876|\n",
      "|    payment_amount|     open|0.6099586776859505|\n",
      "|  reduction_amount|     open|0.5630165289256198|\n",
      "|       fine_amount|     open| 0.506198347107438|\n",
      "|      vehicle_year|  parking|0.4671497584541063|\n",
      "|    violation_code|  parking|0.1012396694214876|\n",
      "+------------------+---------+------------------+\n",
      "\n"
     ]
    }
   ],
   "source": [
    "tc.getSimilarNumCols(\"parking^violation_location\", threshold=0.1).show()"
   ]
  },
  {
   "cell_type": "markdown",
   "metadata": {},
   "source": [
    "## Returns intersecting values in two columns of different or same tables"
   ]
  },
  {
   "cell_type": "code",
   "execution_count": 16,
   "metadata": {},
   "outputs": [
    {
     "name": "stdout",
     "output_type": "stream",
     "text": [
      "+---------+-----+\n",
      "|col_value|count|\n",
      "+---------+-----+\n",
      "|  GWR6544|    2|\n",
      "|  GMZ6430|    2|\n",
      "|  GTZ3429|    2|\n",
      "|  GWH8612|    2|\n",
      "|  GKJ3196|    2|\n",
      "|  HCT2162|    2|\n",
      "|  JKX3874|    2|\n",
      "|  JDA2966|    2|\n",
      "| MAGUJ0DE|    2|\n",
      "|  HAX7497|    2|\n",
      "| T682962C|    2|\n",
      "|  GFC7118|    2|\n",
      "|  GUX8085|    2|\n",
      "|  GYD6262|    2|\n",
      "|  GMB9512|    2|\n",
      "|  GZC3304|    2|\n",
      "|  HFA1602|    2|\n",
      "|  HBU4498|    2|\n",
      "|  HCN8863|    2|\n",
      "|  GXN8364|    2|\n",
      "+---------+-----+\n",
      "only showing top 20 rows\n",
      "\n"
     ]
    }
   ],
   "source": [
    "colList= [\"parking^plate_id\",\"open^plate\"]\n",
    "tc.returnIntersecWithinCols(colList).show()"
   ]
  },
  {
   "cell_type": "markdown",
   "metadata": {},
   "source": [
    "## Return the top n most frequent values in different tables and columns"
   ]
  },
  {
   "cell_type": "code",
   "execution_count": 17,
   "metadata": {},
   "outputs": [
    {
     "name": "stdout",
     "output_type": "stream",
     "text": [
      "+----------+----+--------+\n",
      "| col_value| cnt|col_name|\n",
      "+----------+----+--------+\n",
      "|BLANKPLATE|1203|plate_id|\n",
      "|BLANKPLATE| 872|   plate|\n",
      "|       N/A| 155|plate_id|\n",
      "|       N/A| 149|   plate|\n",
      "|    AP501F| 138|plate_id|\n",
      "+----------+----+--------+\n",
      "\n"
     ]
    }
   ],
   "source": [
    "colList= [\"parking^plate_id\",\"open^plate\"]\n",
    "tc.frequentVals(colList, 5).show()"
   ]
  },
  {
   "cell_type": "markdown",
   "metadata": {},
   "source": [
    "## Return outlier based on frequency beyond a theshold in a column in specified table"
   ]
  },
  {
   "cell_type": "code",
   "execution_count": 18,
   "metadata": {},
   "outputs": [
    {
     "name": "stdout",
     "output_type": "stream",
     "text": [
      "+---------+---+--------+\n",
      "|col_value|cnt|col_name|\n",
      "+---------+---+--------+\n",
      "|   JAA566|  1|plate_id|\n",
      "|  J95228J|  1|plate_id|\n",
      "|  GVB6862|  1|plate_id|\n",
      "|  HCZ2817|  1|plate_id|\n",
      "|  GST3491|  1|plate_id|\n",
      "|  GPJ8661|  1|plate_id|\n",
      "|  GGC8946|  1|plate_id|\n",
      "|  GYG9068|  1|plate_id|\n",
      "|  GVP4874|  1|plate_id|\n",
      "|  HDL9126|  1|plate_id|\n",
      "|  GBN1990|  1|plate_id|\n",
      "|  GWR6544|  1|plate_id|\n",
      "|  GBU2371|  1|plate_id|\n",
      "|  GSB6977|  1|plate_id|\n",
      "|  GWM8557|  1|plate_id|\n",
      "|  GMH1265|  1|plate_id|\n",
      "|   T68FJF|  1|plate_id|\n",
      "|   GOOFY6|  1|plate_id|\n",
      "|  HBU1113|  1|plate_id|\n",
      "|  GRZ9143|  1|plate_id|\n",
      "+---------+---+--------+\n",
      "only showing top 20 rows\n",
      "\n",
      "+---------+---+--------+\n",
      "|col_value|cnt|col_name|\n",
      "+---------+---+--------+\n",
      "| MAGUJ0DE|  1|   plate|\n",
      "|  OL1085J|  1|   plate|\n",
      "|  JSB3116|  1|   plate|\n",
      "|  ABX1739|  1|   plate|\n",
      "|    8H27D|  1|   plate|\n",
      "|  8CE6650|  1|   plate|\n",
      "|  GRJ7269|  1|   plate|\n",
      "|  GGY4478|  1|   plate|\n",
      "|  R405643|  1|   plate|\n",
      "| T646929C|  1|   plate|\n",
      "|  BE40163|  1|   plate|\n",
      "|  JHA3715|  1|   plate|\n",
      "|  ZHJ1265|  1|   plate|\n",
      "|  792473N|  1|   plate|\n",
      "|   C18SAK|  1|   plate|\n",
      "|  CBU7957|  1|   plate|\n",
      "|  EPS9171|  1|   plate|\n",
      "|  24534MH|  1|   plate|\n",
      "|  GUX8085|  1|   plate|\n",
      "|  FGF1887|  1|   plate|\n",
      "+---------+---+--------+\n",
      "only showing top 20 rows\n",
      "\n"
     ]
    }
   ],
   "source": [
    "colList= [\"parking^plate_id\",\"open^plate\"]\n",
    "tc.returnOutliers(colList, 0.01)"
   ]
  },
  {
   "cell_type": "markdown",
   "metadata": {},
   "source": [
    "## Column names in a table with and without some keywords"
   ]
  },
  {
   "cell_type": "code",
   "execution_count": 19,
   "metadata": {},
   "outputs": [
    {
     "name": "stdout",
     "output_type": "stream",
     "text": [
      "+--------+----------+\n",
      "|col_name|table_name|\n",
      "+--------+----------+\n",
      "|   plate|      open|\n",
      "+--------+----------+\n",
      "\n"
     ]
    }
   ],
   "source": [
    "colList= [\"parking^plate_id\",\"open^plate\"]\n",
    "withList = ['CPZ3300']\n",
    "withoutList = ['GTR366A']\n",
    "tc.colsWithAndWithout(colList, withList, withoutList).show()"
   ]
  },
  {
   "cell_type": "markdown",
   "metadata": {},
   "source": [
    "## Finds the number of unique values in a columns in specified table"
   ]
  },
  {
   "cell_type": "code",
   "execution_count": 20,
   "metadata": {},
   "outputs": [
    {
     "name": "stdout",
     "output_type": "stream",
     "text": [
      "+--------+------+\n",
      "|col_name| count|\n",
      "+--------+------+\n",
      "|   plate|212692|\n",
      "|plate_id|607520|\n",
      "+--------+------+\n",
      "\n"
     ]
    }
   ],
   "source": [
    "tc.getCardinality(colList).show()"
   ]
  },
  {
   "cell_type": "markdown",
   "metadata": {},
   "source": [
    "## Returns columns of specified datatype in a dataframe"
   ]
  },
  {
   "cell_type": "code",
   "execution_count": 21,
   "metadata": {},
   "outputs": [
    {
     "data": {
      "text/plain": [
       "['plate',\n",
       " 'license_type',\n",
       " 'county',\n",
       " 'state',\n",
       " 'issuing_agency',\n",
       " 'violation',\n",
       " 'violation_status',\n",
       " 'issue_date',\n",
       " 'violation_time',\n",
       " 'judgment_entry_date']"
      ]
     },
     "execution_count": 21,
     "metadata": {},
     "output_type": "execute_result"
    }
   ],
   "source": [
    "tc.getColsOfDatatype(openTable, 'string')"
   ]
  },
  {
   "cell_type": "code",
   "execution_count": 22,
   "metadata": {},
   "outputs": [
    {
     "name": "stdout",
     "output_type": "stream",
     "text": [
      "[nltk_data] Downloading package wordnet to\n",
      "[nltk_data]     /Users/dishaumarwani/nltk_data...\n",
      "[nltk_data]   Package wordnet is already up-to-date!\n"
     ]
    },
    {
     "data": {
      "text/plain": [
       "True"
      ]
     },
     "execution_count": 22,
     "metadata": {},
     "output_type": "execute_result"
    }
   ],
   "source": [
    "#Necessary to use nltk library\n",
    "import nltk\n",
    "nltk.download('wordnet')"
   ]
  },
  {
   "cell_type": "markdown",
   "metadata": {},
   "source": [
    "# Returns similarity measures for columns having path similarity greater than 0.5 for different dataframe or a keyword category"
   ]
  },
  {
   "cell_type": "code",
   "execution_count": 23,
   "metadata": {},
   "outputs": [
    {
     "name": "stdout",
     "output_type": "stream",
     "text": [
      "+----------------+--------------------+---------------+--------------------+----------------+\n",
      "|        Column_1|            Column_2|Path Similarity|levenshtein distance|soundex_equality|\n",
      "+----------------+--------------------+---------------+--------------------+----------------+\n",
      "|  summons_number|      summons_number|            1.0|                   0|            true|\n",
      "|  summons_number|        meter_number|            1.0|                   6|           false|\n",
      "|           plate|            plate_id|            1.0|                   3|           false|\n",
      "|           plate|          plate_type|            1.0|                   5|           false|\n",
      "|    license_type|          plate_type|            1.0|                   6|           false|\n",
      "|    license_type|   vehicle_body_type|            1.0|                   9|           false|\n",
      "|          county|    violation_county|            1.0|                  10|           false|\n",
      "|           state|  registration_state|            1.0|                  13|           false|\n",
      "|        precinct|  violation_precinct|            1.0|                  10|           false|\n",
      "|        precinct|     issuer_precinct|            1.0|                   7|           false|\n",
      "|  issuing_agency|      issuing_agency|            1.0|                   0|            true|\n",
      "|       violation|      violation_code|            1.0|                   5|            true|\n",
      "|       violation|    violation_county|            1.0|                   7|            true|\n",
      "|       violation|violation_descrip...|            1.0|                  12|            true|\n",
      "|       violation|  violation_location|            1.0|                   9|            true|\n",
      "|       violation|  violation_precinct|            1.0|                   9|            true|\n",
      "|       violation|      violation_time|            1.0|                   5|            true|\n",
      "|violation_status|      violation_code|            1.0|                   6|            true|\n",
      "|violation_status|    violation_county|            1.0|                   6|            true|\n",
      "|violation_status|violation_descrip...|            1.0|                   9|            true|\n",
      "+----------------+--------------------+---------------+--------------------+----------------+\n",
      "only showing top 20 rows\n",
      "\n"
     ]
    }
   ],
   "source": [
    "tc.colsNameSimilarity(openTable, category = None, df2=parkingTable).show()"
   ]
  },
  {
   "cell_type": "code",
   "execution_count": 24,
   "metadata": {},
   "outputs": [
    {
     "name": "stdout",
     "output_type": "stream",
     "text": [
      "+--------+---------------+--------------------+----------------+\n",
      "|Column_1|Path Similarity|levenshtein distance|soundex_equality|\n",
      "+--------+---------------+--------------------+----------------+\n",
      "|   state|            1.0|                   0|            true|\n",
      "+--------+---------------+--------------------+----------------+\n",
      "\n"
     ]
    }
   ],
   "source": [
    "tc.colsNameSimilarity(openTable, category = 'state', df2=None).show()"
   ]
  },
  {
   "cell_type": "code",
   "execution_count": 25,
   "metadata": {},
   "outputs": [
    {
     "name": "stdout",
     "output_type": "stream",
     "text": [
      "+------------------+---------------+--------------------+----------------+\n",
      "|          Column_1|Path Similarity|levenshtein distance|soundex_equality|\n",
      "+------------------+---------------+--------------------+----------------+\n",
      "|registration_state|            1.0|                  13|           false|\n",
      "+------------------+---------------+--------------------+----------------+\n",
      "\n"
     ]
    }
   ],
   "source": [
    "tc.colsNameSimilarity(parkingTable, category = 'state', df2=None).show()"
   ]
  },
  {
   "cell_type": "markdown",
   "metadata": {},
   "source": [
    "## Find if a column is of type State(full, short), County and City for United States"
   ]
  },
  {
   "cell_type": "code",
   "execution_count": 26,
   "metadata": {},
   "outputs": [
    {
     "name": "stdout",
     "output_type": "stream",
     "text": [
      "Column values are not a subset of State_full\n",
      "+---------+------------------+----------+--------+\n",
      "|tableName|           colName|  category|IsSubset|\n",
      "+---------+------------------+----------+--------+\n",
      "|  parking|registration_state|State_full|   false|\n",
      "+---------+------------------+----------+--------+\n",
      "\n"
     ]
    }
   ],
   "source": [
    "tc.getColsofCategory('parking',['registration_state'],category= 'State_full').show()"
   ]
  },
  {
   "cell_type": "code",
   "execution_count": 27,
   "metadata": {},
   "outputs": [
    {
     "name": "stdout",
     "output_type": "stream",
     "text": [
      "Column values are not a subset of State_short\n",
      "+---------+------------------+-----------+--------+\n",
      "|tableName|           colName|   category|IsSubset|\n",
      "+---------+------------------+-----------+--------+\n",
      "|  parking|registration_state|State_short|   false|\n",
      "+---------+------------------+-----------+--------+\n",
      "\n"
     ]
    }
   ],
   "source": [
    "tc.getColsofCategory('parking',['registration_state'],category= 'State_short').show()"
   ]
  },
  {
   "cell_type": "markdown",
   "metadata": {},
   "source": [
    "## Returns number of null values in specified table and columns"
   ]
  },
  {
   "cell_type": "code",
   "execution_count": 40,
   "metadata": {},
   "outputs": [
    {
     "name": "stdout",
     "output_type": "stream",
     "text": [
      "parking_string_metadata.csv\n",
      "+----------+----------------+-----------+\n",
      "|Table name|     column name|Null Values|\n",
      "+----------+----------------+-----------+\n",
      "|   parking|violation_county|     192974|\n",
      "+----------+----------------+-----------+\n",
      "\n"
     ]
    }
   ],
   "source": [
    "tc.countNullValues([['parking', 'violation_county']]).show()"
   ]
  },
  {
   "cell_type": "markdown",
   "metadata": {},
   "source": [
    "## Return Union values in two columns of same or different tables"
   ]
  },
  {
   "cell_type": "code",
   "execution_count": 41,
   "metadata": {},
   "outputs": [
    {
     "name": "stdout",
     "output_type": "stream",
     "text": [
      "+---------+-----+\n",
      "|col_value|count|\n",
      "+---------+-----+\n",
      "|  FMW7832|    1|\n",
      "|  GWR6544|    2|\n",
      "|  GMZ6430|    2|\n",
      "|  GTZ3429|    2|\n",
      "|   H20EAX|    1|\n",
      "|  GWH8612|    2|\n",
      "|  GKJ3196|    2|\n",
      "|  HCT2162|    2|\n",
      "|  JKX3874|    2|\n",
      "|   J70FFS|    1|\n",
      "|  GZP1017|    1|\n",
      "|  JDA2966|    2|\n",
      "|  GPJ8661|    1|\n",
      "| MAGUJ0DE|    2|\n",
      "|  GYG9068|    1|\n",
      "|  HAX7497|    2|\n",
      "|  HBN1631|    1|\n",
      "| T682962C|    2|\n",
      "|  GXD7118|    1|\n",
      "|  GFC7118|    2|\n",
      "+---------+-----+\n",
      "only showing top 20 rows\n",
      "\n"
     ]
    }
   ],
   "source": [
    "colList= [\"parking^plate_id\",\"open^plate\"]\n",
    "tc.returnUnionWithinCols(colList).show()"
   ]
  }
 ],
 "metadata": {
  "kernelspec": {
   "display_name": "Python 3",
   "language": "python",
   "name": "python3"
  },
  "language_info": {
   "codemirror_mode": {
    "name": "ipython",
    "version": 3
   },
   "file_extension": ".py",
   "mimetype": "text/x-python",
   "name": "python",
   "nbconvert_exporter": "python",
   "pygments_lexer": "ipython3",
   "version": "3.6.5"
  }
 },
 "nbformat": 4,
 "nbformat_minor": 2
}
